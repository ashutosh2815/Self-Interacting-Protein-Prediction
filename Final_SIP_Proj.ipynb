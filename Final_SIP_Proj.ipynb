{
  "nbformat": 4,
  "nbformat_minor": 0,
  "metadata": {
    "colab": {
      "provenance": []
    },
    "kernelspec": {
      "name": "python3",
      "display_name": "Python 3"
    },
    "language_info": {
      "name": "python"
    }
  },
  "cells": [
    {
      "cell_type": "code",
      "source": [
        "!pip install Bio"
      ],
      "metadata": {
        "colab": {
          "base_uri": "https://localhost:8080/"
        },
        "id": "k3SL6J86L3Cy",
        "outputId": "42375d6a-aa48-4c4c-ced4-3b2c9334210e"
      },
      "execution_count": null,
      "outputs": [
        {
          "output_type": "stream",
          "name": "stdout",
          "text": [
            "Collecting Bio\n",
            "  Downloading bio-1.8.0-py3-none-any.whl.metadata (5.7 kB)\n",
            "Collecting biopython>=1.80 (from Bio)\n",
            "  Downloading biopython-1.85-cp311-cp311-manylinux_2_17_x86_64.manylinux2014_x86_64.whl.metadata (13 kB)\n",
            "Collecting gprofiler-official (from Bio)\n",
            "  Downloading gprofiler_official-1.0.0-py3-none-any.whl.metadata (11 kB)\n",
            "Collecting mygene (from Bio)\n",
            "  Downloading mygene-3.2.2-py2.py3-none-any.whl.metadata (10 kB)\n",
            "Requirement already satisfied: pandas in /usr/local/lib/python3.11/dist-packages (from Bio) (2.2.2)\n",
            "Requirement already satisfied: pooch in /usr/local/lib/python3.11/dist-packages (from Bio) (1.8.2)\n",
            "Requirement already satisfied: requests in /usr/local/lib/python3.11/dist-packages (from Bio) (2.32.3)\n",
            "Requirement already satisfied: tqdm in /usr/local/lib/python3.11/dist-packages (from Bio) (4.67.1)\n",
            "Requirement already satisfied: numpy in /usr/local/lib/python3.11/dist-packages (from biopython>=1.80->Bio) (2.0.2)\n",
            "Collecting biothings-client>=0.2.6 (from mygene->Bio)\n",
            "  Downloading biothings_client-0.4.1-py3-none-any.whl.metadata (10 kB)\n",
            "Requirement already satisfied: python-dateutil>=2.8.2 in /usr/local/lib/python3.11/dist-packages (from pandas->Bio) (2.9.0.post0)\n",
            "Requirement already satisfied: pytz>=2020.1 in /usr/local/lib/python3.11/dist-packages (from pandas->Bio) (2025.2)\n",
            "Requirement already satisfied: tzdata>=2022.7 in /usr/local/lib/python3.11/dist-packages (from pandas->Bio) (2025.2)\n",
            "Requirement already satisfied: platformdirs>=2.5.0 in /usr/local/lib/python3.11/dist-packages (from pooch->Bio) (4.3.8)\n",
            "Requirement already satisfied: packaging>=20.0 in /usr/local/lib/python3.11/dist-packages (from pooch->Bio) (24.2)\n",
            "Requirement already satisfied: charset-normalizer<4,>=2 in /usr/local/lib/python3.11/dist-packages (from requests->Bio) (3.4.2)\n",
            "Requirement already satisfied: idna<4,>=2.5 in /usr/local/lib/python3.11/dist-packages (from requests->Bio) (3.10)\n",
            "Requirement already satisfied: urllib3<3,>=1.21.1 in /usr/local/lib/python3.11/dist-packages (from requests->Bio) (2.4.0)\n",
            "Requirement already satisfied: certifi>=2017.4.17 in /usr/local/lib/python3.11/dist-packages (from requests->Bio) (2025.4.26)\n",
            "Requirement already satisfied: httpx>=0.22.0 in /usr/local/lib/python3.11/dist-packages (from biothings-client>=0.2.6->mygene->Bio) (0.28.1)\n",
            "Requirement already satisfied: six>=1.5 in /usr/local/lib/python3.11/dist-packages (from python-dateutil>=2.8.2->pandas->Bio) (1.17.0)\n",
            "Requirement already satisfied: anyio in /usr/local/lib/python3.11/dist-packages (from httpx>=0.22.0->biothings-client>=0.2.6->mygene->Bio) (4.9.0)\n",
            "Requirement already satisfied: httpcore==1.* in /usr/local/lib/python3.11/dist-packages (from httpx>=0.22.0->biothings-client>=0.2.6->mygene->Bio) (1.0.9)\n",
            "Requirement already satisfied: h11>=0.16 in /usr/local/lib/python3.11/dist-packages (from httpcore==1.*->httpx>=0.22.0->biothings-client>=0.2.6->mygene->Bio) (0.16.0)\n",
            "Requirement already satisfied: sniffio>=1.1 in /usr/local/lib/python3.11/dist-packages (from anyio->httpx>=0.22.0->biothings-client>=0.2.6->mygene->Bio) (1.3.1)\n",
            "Requirement already satisfied: typing_extensions>=4.5 in /usr/local/lib/python3.11/dist-packages (from anyio->httpx>=0.22.0->biothings-client>=0.2.6->mygene->Bio) (4.13.2)\n",
            "Downloading bio-1.8.0-py3-none-any.whl (321 kB)\n",
            "\u001b[2K   \u001b[90m━━━━━━━━━━━━━━━━━━━━━━━━━━━━━━━━━━━━━━━━\u001b[0m \u001b[32m321.1/321.1 kB\u001b[0m \u001b[31m9.6 MB/s\u001b[0m eta \u001b[36m0:00:00\u001b[0m\n",
            "\u001b[?25hDownloading biopython-1.85-cp311-cp311-manylinux_2_17_x86_64.manylinux2014_x86_64.whl (3.3 MB)\n",
            "\u001b[2K   \u001b[90m━━━━━━━━━━━━━━━━━━━━━━━━━━━━━━━━━━━━━━━━\u001b[0m \u001b[32m3.3/3.3 MB\u001b[0m \u001b[31m29.6 MB/s\u001b[0m eta \u001b[36m0:00:00\u001b[0m\n",
            "\u001b[?25hDownloading gprofiler_official-1.0.0-py3-none-any.whl (9.3 kB)\n",
            "Downloading mygene-3.2.2-py2.py3-none-any.whl (5.4 kB)\n",
            "Downloading biothings_client-0.4.1-py3-none-any.whl (46 kB)\n",
            "\u001b[2K   \u001b[90m━━━━━━━━━━━━━━━━━━━━━━━━━━━━━━━━━━━━━━━━\u001b[0m \u001b[32m46.7/46.7 kB\u001b[0m \u001b[31m1.6 MB/s\u001b[0m eta \u001b[36m0:00:00\u001b[0m\n",
            "\u001b[?25hInstalling collected packages: biopython, gprofiler-official, biothings-client, mygene, Bio\n",
            "Successfully installed Bio-1.8.0 biopython-1.85 biothings-client-0.4.1 gprofiler-official-1.0.0 mygene-3.2.2\n"
          ]
        }
      ]
    },
    {
      "cell_type": "code",
      "source": [],
      "metadata": {
        "id": "kQ-dAE3Gpr66"
      },
      "execution_count": null,
      "outputs": []
    },
    {
      "cell_type": "code",
      "source": [
        "import numpy as np\n",
        "import pandas as pd\n",
        "from sklearn.preprocessing import StandardScaler\n",
        "from sklearn.model_selection import train_test_split\n",
        "from sklearn.svm import SVC\n",
        "from sklearn.ensemble import RandomForestClassifier\n",
        "from sklearn.metrics import (\n",
        "    accuracy_score, f1_score, roc_auc_score, average_precision_score,\n",
        "    matthews_corrcoef, precision_recall_curve, roc_curve, auc\n",
        ")\n",
        "import matplotlib.pyplot as plt\n",
        "from tqdm import tqdm\n",
        "from sklearn.base import BaseEstimator, ClassifierMixin\n",
        "from sklearn.neighbors import KNeighborsClassifier\n",
        "from sklearn.model_selection import LeaveOneOut\n",
        "from sklearn.utils import check_random_state\n",
        "from sklearn.decomposition import PCA\n",
        "from Bio.Align import substitution_matrices\n",
        "from tqdm import tqdm\n",
        "\n",
        "\n",
        "import matplotlib.pyplot as plt\n",
        "from tqdm import tqdm\n",
        "from sklearn.model_selection import train_test_split, LeaveOneOut\n",
        "from sklearn.neighbors import KNeighborsClassifier\n",
        "from sklearn.metrics import (\n",
        "    accuracy_score, precision_score, recall_score, f1_score,\n",
        "    matthews_corrcoef, roc_auc_score, average_precision_score,\n",
        "    roc_curve, precision_recall_curve, confusion_matrix\n",
        ")\n",
        "from sklearn.utils import check_random_state"
      ],
      "metadata": {
        "id": "d7RXlnofI-Vx"
      },
      "execution_count": null,
      "outputs": []
    },
    {
      "cell_type": "code",
      "source": [
        "import numpy as np\n",
        "import pandas as pd\n",
        "from sklearn.neighbors import KNeighborsClassifier\n",
        "from sklearn.model_selection import LeaveOneOut\n",
        "from sklearn.metrics import accuracy_score\n",
        "from sklearn.preprocessing import StandardScaler\n",
        "from sklearn.utils import check_random_state\n",
        "from tqdm import tqdm"
      ],
      "metadata": {
        "id": "XJPByOViJFul"
      },
      "execution_count": null,
      "outputs": []
    },
    {
      "cell_type": "code",
      "source": [
        "current_dir = '/content/drive/MyDrive/BIO/' # Replace 'Your_Folder_Name' with the actual path\n",
        "ndPath=os.path.join(current_dir)\n",
        "import json\n",
        "AAPHY7 = json.load(open(ndPath+\"aa_phy7.txt\"))"
      ],
      "metadata": {
        "id": "7a_DhSUFucQW"
      },
      "execution_count": null,
      "outputs": []
    },
    {
      "cell_type": "code",
      "execution_count": null,
      "metadata": {
        "id": "AvO_2PTZI5yt"
      },
      "outputs": [],
      "source": [
        "blosum62_raw = substitution_matrices.load(\"BLOSUM62\")\n",
        "\n",
        "# Amino acids in BLOSUM62\n",
        "amino_acids = sorted(list(set([aa for pair in blosum62_raw.keys() for aa in pair])))\n",
        "\n",
        "aa_to_index = {aa: i for i, aa in enumerate(amino_acids)}\n",
        "num_aa = len(amino_acids)\n",
        "\n",
        "def encode_sequence(seq,blosum62,aa_to_index,AAPHY7):\n",
        "    \"\"\"\n",
        "    Convert protein sequence to an N × 20 matrix using BLOSUM62 substitution scores.\n",
        "    \"\"\"\n",
        "    seq = seq.upper()\n",
        "    encoded = []\n",
        "    P=[]\n",
        "    # for aa in seq:\n",
        "    #     if aa not in aa_to_index:\n",
        "    #         # Unknown amino acid — zero vector\n",
        "    #         encoded.append(np.zeros(num_aa))\n",
        "    #         P.append(np.zeros(num_aa))\n",
        "    #     else:\n",
        "    #         idx = aa_to_index[aa]\n",
        "    #         encoded.append(blosum62[idx])\n",
        "    #         P.append(AAPHY7[aa])\n",
        "\n",
        "    # return np.array(encoded),np.array(P)\n",
        "\n",
        "\n",
        "\n",
        "    for aa in seq:\n",
        "          if aa not in aa_to_index or aa not in AAPHY7:\n",
        "             encoded.append(np.zeros(len(aa_to_index)))           # 20-dim\n",
        "             P.append(np.zeros(len(next(iter(AAPHY7.values()))))) # 7-dim\n",
        "          else:\n",
        "            encoded.append(blosum62[aa_to_index[aa]])\n",
        "            P.append(AAPHY7[aa])\n",
        "    return np.array(encoded), np.array(P)\n",
        "\n",
        "\n",
        "\n",
        "def extract_features(sequence,blosum62,aa_to_index):\n",
        "    \"\"\"\n",
        "    Full pipeline: BLOSUM62 → N×20 matrix → 20×20 product → flatten → FFT → real part\n",
        "    \"\"\"\n",
        "    # mat,P = encode_sequence(sequence,blosum62,aa_to_index)  # N x 20\n",
        "    # product = np.dot(mat.T, mat)     # 20 x 20\n",
        "    # flattened = product.flatten()    # 400-dim\n",
        "    # fft_result = np.fft.fft(flattened).real  # Keep only real part\n",
        "    # return fft_result\n",
        "\n",
        "\n",
        "def extract_features(sequence, blosum62, aa_to_index, AAPHY7):\n",
        "    \"\"\"\n",
        "    Full pipeline:\n",
        "    - Encode with BLOSUM62 (N×20) and AAPHY7 (N×7)\n",
        "    - Dot product: (20×20) and (7×7)\n",
        "    - Flatten both → FFT → real part only\n",
        "    - Return concatenated feature vector (449-dim)\n",
        "    \"\"\"\n",
        "    max_length = max(len(seq) for seq in sequence) ### Changessssss\n",
        "    mat, P = encode_sequence(sequence, blosum62, aa_to_index, AAPHY7)\n",
        "\n",
        "    # BLOSUM62 path\n",
        "    product_blosum = np.dot(mat.T, mat)             # 20×20\n",
        "    flat_blosum = product_blosum.flatten()          # 400-dim\n",
        "    fft_blosum = np.fft.fft(flat_blosum).real       # real part only\n",
        "\n",
        "    # AAPHY7 path\n",
        "    product_phy = np.dot(P.T, P)                    # 7×7\n",
        "    flat_phy = product_phy.flatten()                # 49-dim\n",
        "    fft_phy = np.fft.fft(flat_phy).real             # real part only\n",
        "\n",
        "    # Final concatenated feature vector\n",
        "    return np.concatenate([fft_blosum, fft_phy])    # 449-dim total\n"
      ]
    },
    {
      "cell_type": "code",
      "source": [
        "\n",
        "\n",
        "\n",
        "# -------------------------- Class Definition --------------------------\n",
        "class RandomProjectionEnsembleClassifier(BaseEstimator, ClassifierMixin):\n",
        "    def __init__(self, B1=10, B2=30, k_range=range(1, 41, 3), q_dim=100, random_state=None):\n",
        "        self.B1 = B1\n",
        "        self.B2 = B2\n",
        "        self.k_range = k_range\n",
        "        self.q_dim = q_dim\n",
        "        self.random_state = check_random_state(random_state)\n",
        "        self.selected_projections = []\n",
        "        self.selected_classifiers = []\n",
        "\n",
        "    def _generate_projection_matrix(self, n_features, q_dim):\n",
        "        R = self.random_state.choice([-1, 1], size=(q_dim, n_features)).astype(np.float32)\n",
        "        R = R / np.linalg.norm(R, axis=1, keepdims=True)\n",
        "        return R\n",
        "\n",
        "    def _evaluate_projection(self, G, y, R):\n",
        "        projected_G = G @ R.T\n",
        "        best_score, best_k = -1, None\n",
        "        for k in self.k_range:\n",
        "            loo = LeaveOneOut()\n",
        "            preds = []\n",
        "            for train_idx, test_idx in loo.split(projected_G):\n",
        "                X_train, X_test = projected_G[train_idx], projected_G[test_idx]\n",
        "                y_train, y_test = y[train_idx], y[test_idx]\n",
        "                clf = KNeighborsClassifier(n_neighbors=k)\n",
        "                clf.fit(X_train, y_train)\n",
        "                preds.append(clf.predict(X_test)[0])\n",
        "            acc = accuracy_score(y, preds)\n",
        "            if acc > best_score:\n",
        "                best_score = acc\n",
        "                best_k = k\n",
        "        return best_score, best_k\n",
        "\n",
        "    def fit(self, X, y):\n",
        "        self.selected_projections = []\n",
        "        self.selected_classifiers = []\n",
        "        n_samples, n_features = X.shape\n",
        "\n",
        "        candidate_projections = []\n",
        "        candidate_scores = []\n",
        "        candidate_classifiers = []\n",
        "\n",
        "        for _ in tqdm(range(self.B2), desc=\"Generating projection pool\"):\n",
        "            R = self._generate_projection_matrix(n_features, self.q_dim)\n",
        "            score, best_k = self._evaluate_projection(X, y, R)\n",
        "            candidate_projections.append(R)\n",
        "            candidate_scores.append(score)\n",
        "\n",
        "            projected_X = X @ R.T\n",
        "            clf = KNeighborsClassifier(n_neighbors=best_k)\n",
        "            clf.fit(projected_X, y)\n",
        "            candidate_classifiers.append(clf)\n",
        "\n",
        "        top_indices = np.argsort(candidate_scores)[-self.B1:]\n",
        "        for idx in top_indices:\n",
        "            self.selected_projections.append(candidate_projections[idx])\n",
        "            self.selected_classifiers.append(candidate_classifiers[idx])\n",
        "\n",
        "    def predict(self, X):\n",
        "        all_preds = []\n",
        "        for R, clf in zip(self.selected_projections, self.selected_classifiers):\n",
        "            proj_X = X @ R.T\n",
        "            all_preds.append(clf.predict(proj_X))\n",
        "        all_preds = np.array(all_preds)\n",
        "        final_preds = [np.argmax(np.bincount(all_preds[:, i])) for i in range(X.shape[0])]\n",
        "        return np.array(final_preds)\n",
        "\n",
        "    def predict_proba(self, X):\n",
        "        all_probs = []\n",
        "        for R, clf in zip(self.selected_projections, self.selected_classifiers):\n",
        "            proj_X = X @ R.T\n",
        "            prob = clf.predict_proba(proj_X)\n",
        "            all_probs.append(prob)\n",
        "        avg_probs = np.mean(np.stack(all_probs), axis=0)\n",
        "        return avg_probs[:, 1]  # Return probability of positive class\n",
        "\n",
        "# -------------------------- Evaluation Function --------------------------\n",
        "def evaluate_classifier_performance(y_true, y_pred, y_prob, name=\"Classifier\"):\n",
        "    acc = accuracy_score(y_true, y_pred)\n",
        "    f1 = f1_score(y_true, y_pred)\n",
        "    auc_roc = roc_auc_score(y_true, y_prob)\n",
        "    auprc = average_precision_score(y_true, y_prob)\n",
        "    mcc = matthews_corrcoef(y_true, y_pred)\n",
        "    print(f\"\\n{name} Results:\")\n",
        "    print(f\"  Accuracy  : {acc:.4f}\")\n",
        "    print(f\"  F1 Score  : {f1:.4f}\")\n",
        "    print(f\"  AUC-ROC   : {auc_roc:.4f}\")\n",
        "    print(f\"  AUPRC     : {auprc:.4f}\")\n",
        "    print(f\"  MCC       : {mcc:.4f}\")\n",
        "    return auc_roc, auprc\n",
        "\n",
        "\n",
        "# -------------------------- Plot Functions --------------------------\n",
        "def plot_roc_curves(y_test, prob_dict, title='ROC Curve Comparison'):\n",
        "    plt.figure(figsize=(8, 6))\n",
        "    for name, y_prob in prob_dict.items():\n",
        "        fpr, tpr, _ = roc_curve(y_test, y_prob)\n",
        "        roc_auc = auc(fpr, tpr)\n",
        "        plt.plot(fpr, tpr, label=f'{name} (AUC = {roc_auc:.3f})')\n",
        "    plt.plot([0, 1], [0, 1], 'k--', label='Random')\n",
        "    plt.xlabel('False Positive Rate')\n",
        "    plt.ylabel('True Positive Rate')\n",
        "    plt.title(title)\n",
        "    plt.legend(loc='lower right')\n",
        "    plt.grid(True)\n",
        "    plt.tight_layout()\n",
        "    plt.show()\n",
        "\n",
        "def plot_pr_curves(y_test, prob_dict, title='Precision-Recall Curve Comparison'):\n",
        "    plt.figure(figsize=(8, 6))\n",
        "    for name, y_prob in prob_dict.items():\n",
        "        precision, recall, _ = precision_recall_curve(y_test, y_prob)\n",
        "        ap_score = average_precision_score(y_test, y_prob)\n",
        "        plt.plot(recall, precision, label=f'{name} (AUPRC = {ap_score:.3f})')\n",
        "    plt.xlabel('Recall')\n",
        "    plt.ylabel('Precision')\n",
        "    plt.title(title)\n",
        "    plt.legend(loc='upper right')\n",
        "    plt.grid(True)\n",
        "    plt.tight_layout()\n",
        "    plt.show()\n",
        "\n"
      ],
      "metadata": {
        "id": "pdzZXghUJIuH"
      },
      "execution_count": null,
      "outputs": []
    },
    {
      "cell_type": "code",
      "source": [
        "def GenData(datapath,nc,r):\n",
        "\n",
        "    # datapath='./data/'\n",
        "    file_path = f'{datapath}final_human_df.csv'\n",
        "    df = pd.read_csv(file_path)\n",
        "\n",
        "    # Sample positive and negative sequences\n",
        "\n",
        "\n",
        "    pos_d = df[df['Label'] == 1]\n",
        "    neg_d = df[df['Label'] == 0]\n",
        "    posn = len(pos_d['sequence'].tolist())\n",
        "    negn =  len(neg_d['sequence'].tolist())\n",
        "    print(f'Total Pos={posn}, Neg = {negn}')\n",
        "    pos_df = df[df['Label'] == 1].sample(n=nc, random_state=42)\n",
        "    neg_df = df[df['Label'] == 0].sample(n=nc*r, random_state=42)\n",
        "\n",
        "    # print(f\"POS: {len(pos_df['sequence'].tolist())}, Neg: {len(neg_df['sequence'].tolist())}\")\n",
        "    combined_df = pd.concat([pos_df, neg_df]).reset_index(drop=True)\n",
        "\n",
        "    # Load BLOSUM62 substitution matrix\n",
        "    blosum62_raw = substitution_matrices.load(\"BLOSUM62\")\n",
        "\n",
        "    # Amino acids in BLOSUM62\n",
        "    amino_acids = sorted(list(set([aa for pair in blosum62_raw.keys() for aa in pair])))\n",
        "\n",
        "    aa_to_index = {aa: i for i, aa in enumerate(amino_acids)}\n",
        "    num_aa = len(amino_acids)\n",
        "\n",
        "\n",
        "\n",
        "    # Create full BLOSUM62 matrix (symmetric)\n",
        "    blosum62 = np.zeros((num_aa, num_aa))\n",
        "    for (aa1, aa2), score in blosum62_raw.items():\n",
        "        i, j = aa_to_index[aa1], aa_to_index[aa2]\n",
        "        blosum62[i, j] = score\n",
        "        blosum62[j, i] = score\n",
        "\n",
        "\n",
        "    # Normalize BLOSUM62\n",
        "    blosum62 = (blosum62 - np.mean(blosum62)) / np.std(blosum62)\n",
        "\n",
        "    # Extract features from all sequences\n",
        "    features = []\n",
        "\n",
        "    labels = []\n",
        "\n",
        "    for _, row in tqdm(combined_df.iterrows(), total=len(combined_df)):\n",
        "        seq = row['sequence']\n",
        "        label = row['Label']\n",
        "        feature_vec = extract_features(seq,blosum62,aa_to_index,AAPHY7)  #Changess\n",
        "        features.append(feature_vec)\n",
        "        labels.append(label)\n",
        "\n",
        "    features = np.array(features)\n",
        "    labels = np.array(labels)\n",
        "    print(features.shape)\n",
        "    return features,labels"
      ],
      "metadata": {
        "id": "KuM_2pqSNzGi"
      },
      "execution_count": null,
      "outputs": []
    },
    {
      "cell_type": "code",
      "source": [
        "# Apply PCA to reduce to 300 dimensions\n",
        "def feature_extraction(features,labels,datapath,ncomponents):\n",
        "    pca = PCA(n_components=ncomponents)\n",
        "    reduced_features = pca.fit_transform(features)\n",
        "\n",
        "    # Create final DataFrame\n",
        "    final_df = pd.DataFrame(reduced_features)\n",
        "    final_df['Label'] = labels\n",
        "\n",
        "    # Save features\n",
        "    final_df.to_csv(f'{datapath}blosum62_fft_pca{ncomponents}.csv', index=False)\n",
        "    print(f\"Feature extraction complete and saved  at {datapath}\")"
      ],
      "metadata": {
        "id": "2H6UghbIJSge"
      },
      "execution_count": null,
      "outputs": []
    },
    {
      "cell_type": "code",
      "source": [
        "\n",
        "\n",
        "from google.colab import drive\n",
        "import os\n",
        "drive.mount('/content/drive', force_remount=True)\n",
        "\n",
        "# data_path = '/content/drive/MyDrive/Colab Notebooks/Dataset/PPI/SIP-IMAGE/blosum62_fft_pca300.csv'\n",
        "# data = pd.read_csv(data_path)"
      ],
      "metadata": {
        "colab": {
          "base_uri": "https://localhost:8080/"
        },
        "id": "RMmp_ppdJ3xo",
        "outputId": "6f637a1e-fa29-4f18-977e-c392b816a703"
      },
      "execution_count": null,
      "outputs": [
        {
          "output_type": "stream",
          "name": "stdout",
          "text": [
            "Mounted at /content/drive\n"
          ]
        }
      ]
    },
    {
      "cell_type": "code",
      "source": [
        "datapath='/content/drive/MyDrive/BIO/'\n",
        "nc=3617;\n",
        "r=1;ncomponents=300\n",
        "FeatureD,labelD=GenData(datapath,nc,r)\n",
        "feature_extraction(FeatureD,labelD,datapath,ncomponents)"
      ],
      "metadata": {
        "colab": {
          "base_uri": "https://localhost:8080/"
        },
        "id": "W7S4H2GOJUK4",
        "outputId": "4e578132-d9ff-44c7-fe31-3e9e683bf4f9"
      },
      "execution_count": null,
      "outputs": [
        {
          "output_type": "stream",
          "name": "stdout",
          "text": [
            "Total Pos=3617, Neg = 12797\n"
          ]
        },
        {
          "output_type": "stream",
          "name": "stderr",
          "text": [
            "100%|██████████| 7234/7234 [00:19<00:00, 379.10it/s]\n"
          ]
        },
        {
          "output_type": "stream",
          "name": "stdout",
          "text": [
            "(7234, 625)\n",
            "Feature extraction complete and saved  at /content/drive/MyDrive/BIO/\n"
          ]
        }
      ]
    },
    {
      "cell_type": "code",
      "source": [
        "# -------------------------- Load and Prepare Data --------------------------\n",
        "data_path='/content/drive/MyDrive/BIO/'\n",
        "ncomponents = 300\n",
        "data_file_path = f'{data_path}blosum62_fft_pca{ncomponents}.csv'\n",
        "\n",
        "data = pd.read_csv(data_file_path)\n",
        "XX = data.drop('Label', axis=1).values\n",
        "y = data['Label'].values\n",
        "\n",
        "scaler = StandardScaler()\n",
        "X = scaler.fit_transform(XX)\n",
        "\n",
        "X_train, X_test, y_train, y_test = train_test_split( X, y, test_size=0.2, random_state=42, stratify=y)\n",
        "print(XX.shape)"
      ],
      "metadata": {
        "colab": {
          "base_uri": "https://localhost:8080/"
        },
        "id": "rfxFUb7aJW07",
        "outputId": "e3997620-5e81-4efa-fceb-d3a9274f6024"
      },
      "execution_count": null,
      "outputs": [
        {
          "output_type": "stream",
          "name": "stdout",
          "text": [
            "(7234, 300)\n"
          ]
        }
      ]
    },
    {
      "cell_type": "code",
      "source": [
        "\n",
        "# -------------------------- Classifier Training --------------------------\n",
        "# RF\n",
        "rf = RandomForestClassifier(n_estimators=100, random_state=42)\n",
        "rf.fit(X_train, y_train)\n",
        "y_pred_rf = rf.predict(X_test)\n",
        "y_prob_rf = rf.predict_proba(X_test)[:, 1]\n",
        "evaluate_classifier_performance(y_test, y_pred_rf, y_prob_rf, name=\"RF\")\n",
        "\n",
        "# RPC\n",
        "rpc = RandomProjectionEnsembleClassifier(B1=10, B2=30, q_dim=100, random_state=42)\n",
        "rpc.fit(X_train, y_train)\n",
        "y_pred_rpc = rpc.predict(X_test)\n",
        "y_prob_rpc = rpc.predict_proba(X_test)\n",
        "\n",
        "# SVM\n",
        "svm = SVC(probability=True, kernel='rbf', random_state=42)\n",
        "svm.fit(X_train, y_train)\n",
        "y_pred_svm = svm.predict(X_test)\n",
        "y_prob_svm = svm.predict_proba(X_test)[:, 1]\n",
        "\n",
        "\n",
        "\n",
        "# -------------------------- Evaluation --------------------------\n",
        "evaluate_classifier_performance(y_test, y_pred_rpc, y_prob_rpc, name=\"RPC\")\n",
        "evaluate_classifier_performance(y_test, y_pred_svm, y_prob_svm, name=\"SVM\")\n",
        "evaluate_classifier_performance(y_test, y_pred_rf, y_prob_rf, name=\"RF\")\n",
        "\n",
        "\n",
        "# -------------------------- Plot All Curves --------------------------\n",
        "prob_dict = {\n",
        "    'RPC': y_prob_rpc,\n",
        "    'SVM': y_prob_svm,\n",
        "    'RF': y_prob_rf\n",
        "}\n",
        "\n",
        "plot_roc_curves(y_test, prob_dict)\n",
        "plot_pr_curves(y_test, prob_dict)\n"
      ],
      "metadata": {
        "id": "KF5OjZ01JZ9g",
        "colab": {
          "base_uri": "https://localhost:8080/",
          "height": 512
        },
        "outputId": "ec883a38-fae7-466b-c23f-c7b20bbd6744"
      },
      "execution_count": null,
      "outputs": [
        {
          "output_type": "stream",
          "name": "stdout",
          "text": [
            "\n",
            "RF Results:\n",
            "  Accuracy  : 0.6158\n",
            "  F1 Score  : 0.6085\n",
            "  AUC-ROC   : 0.6539\n",
            "  AUPRC     : 0.6276\n",
            "  MCC       : 0.2316\n"
          ]
        },
        {
          "output_type": "stream",
          "name": "stderr",
          "text": [
            "Generating projection pool:   0%|          | 0/30 [00:13<?, ?it/s]\n"
          ]
        },
        {
          "output_type": "error",
          "ename": "KeyboardInterrupt",
          "evalue": "",
          "traceback": [
            "\u001b[0;31m---------------------------------------------------------------------------\u001b[0m",
            "\u001b[0;31mKeyboardInterrupt\u001b[0m                         Traceback (most recent call last)",
            "\u001b[0;32m<ipython-input-13-7b58103fc1b8>\u001b[0m in \u001b[0;36m<cell line: 0>\u001b[0;34m()\u001b[0m\n\u001b[1;32m      9\u001b[0m \u001b[0;31m# RPC\u001b[0m\u001b[0;34m\u001b[0m\u001b[0;34m\u001b[0m\u001b[0m\n\u001b[1;32m     10\u001b[0m \u001b[0mrpc\u001b[0m \u001b[0;34m=\u001b[0m \u001b[0mRandomProjectionEnsembleClassifier\u001b[0m\u001b[0;34m(\u001b[0m\u001b[0mB1\u001b[0m\u001b[0;34m=\u001b[0m\u001b[0;36m10\u001b[0m\u001b[0;34m,\u001b[0m \u001b[0mB2\u001b[0m\u001b[0;34m=\u001b[0m\u001b[0;36m30\u001b[0m\u001b[0;34m,\u001b[0m \u001b[0mq_dim\u001b[0m\u001b[0;34m=\u001b[0m\u001b[0;36m100\u001b[0m\u001b[0;34m,\u001b[0m \u001b[0mrandom_state\u001b[0m\u001b[0;34m=\u001b[0m\u001b[0;36m42\u001b[0m\u001b[0;34m)\u001b[0m\u001b[0;34m\u001b[0m\u001b[0;34m\u001b[0m\u001b[0m\n\u001b[0;32m---> 11\u001b[0;31m \u001b[0mrpc\u001b[0m\u001b[0;34m.\u001b[0m\u001b[0mfit\u001b[0m\u001b[0;34m(\u001b[0m\u001b[0mX_train\u001b[0m\u001b[0;34m,\u001b[0m \u001b[0my_train\u001b[0m\u001b[0;34m)\u001b[0m\u001b[0;34m\u001b[0m\u001b[0;34m\u001b[0m\u001b[0m\n\u001b[0m\u001b[1;32m     12\u001b[0m \u001b[0my_pred_rpc\u001b[0m \u001b[0;34m=\u001b[0m \u001b[0mrpc\u001b[0m\u001b[0;34m.\u001b[0m\u001b[0mpredict\u001b[0m\u001b[0;34m(\u001b[0m\u001b[0mX_test\u001b[0m\u001b[0;34m)\u001b[0m\u001b[0;34m\u001b[0m\u001b[0;34m\u001b[0m\u001b[0m\n\u001b[1;32m     13\u001b[0m \u001b[0my_prob_rpc\u001b[0m \u001b[0;34m=\u001b[0m \u001b[0mrpc\u001b[0m\u001b[0;34m.\u001b[0m\u001b[0mpredict_proba\u001b[0m\u001b[0;34m(\u001b[0m\u001b[0mX_test\u001b[0m\u001b[0;34m)\u001b[0m\u001b[0;34m\u001b[0m\u001b[0;34m\u001b[0m\u001b[0m\n",
            "\u001b[0;32m<ipython-input-8-01e0ea76c27f>\u001b[0m in \u001b[0;36mfit\u001b[0;34m(self, X, y)\u001b[0m\n\u001b[1;32m     44\u001b[0m         \u001b[0;32mfor\u001b[0m \u001b[0m_\u001b[0m \u001b[0;32min\u001b[0m \u001b[0mtqdm\u001b[0m\u001b[0;34m(\u001b[0m\u001b[0mrange\u001b[0m\u001b[0;34m(\u001b[0m\u001b[0mself\u001b[0m\u001b[0;34m.\u001b[0m\u001b[0mB2\u001b[0m\u001b[0;34m)\u001b[0m\u001b[0;34m,\u001b[0m \u001b[0mdesc\u001b[0m\u001b[0;34m=\u001b[0m\u001b[0;34m\"Generating projection pool\"\u001b[0m\u001b[0;34m)\u001b[0m\u001b[0;34m:\u001b[0m\u001b[0;34m\u001b[0m\u001b[0;34m\u001b[0m\u001b[0m\n\u001b[1;32m     45\u001b[0m             \u001b[0mR\u001b[0m \u001b[0;34m=\u001b[0m \u001b[0mself\u001b[0m\u001b[0;34m.\u001b[0m\u001b[0m_generate_projection_matrix\u001b[0m\u001b[0;34m(\u001b[0m\u001b[0mn_features\u001b[0m\u001b[0;34m,\u001b[0m \u001b[0mself\u001b[0m\u001b[0;34m.\u001b[0m\u001b[0mq_dim\u001b[0m\u001b[0;34m)\u001b[0m\u001b[0;34m\u001b[0m\u001b[0;34m\u001b[0m\u001b[0m\n\u001b[0;32m---> 46\u001b[0;31m             \u001b[0mscore\u001b[0m\u001b[0;34m,\u001b[0m \u001b[0mbest_k\u001b[0m \u001b[0;34m=\u001b[0m \u001b[0mself\u001b[0m\u001b[0;34m.\u001b[0m\u001b[0m_evaluate_projection\u001b[0m\u001b[0;34m(\u001b[0m\u001b[0mX\u001b[0m\u001b[0;34m,\u001b[0m \u001b[0my\u001b[0m\u001b[0;34m,\u001b[0m \u001b[0mR\u001b[0m\u001b[0;34m)\u001b[0m\u001b[0;34m\u001b[0m\u001b[0;34m\u001b[0m\u001b[0m\n\u001b[0m\u001b[1;32m     47\u001b[0m             \u001b[0mcandidate_projections\u001b[0m\u001b[0;34m.\u001b[0m\u001b[0mappend\u001b[0m\u001b[0;34m(\u001b[0m\u001b[0mR\u001b[0m\u001b[0;34m)\u001b[0m\u001b[0;34m\u001b[0m\u001b[0;34m\u001b[0m\u001b[0m\n\u001b[1;32m     48\u001b[0m             \u001b[0mcandidate_scores\u001b[0m\u001b[0;34m.\u001b[0m\u001b[0mappend\u001b[0m\u001b[0;34m(\u001b[0m\u001b[0mscore\u001b[0m\u001b[0;34m)\u001b[0m\u001b[0;34m\u001b[0m\u001b[0;34m\u001b[0m\u001b[0m\n",
            "\u001b[0;32m<ipython-input-8-01e0ea76c27f>\u001b[0m in \u001b[0;36m_evaluate_projection\u001b[0;34m(self, G, y, R)\u001b[0m\n\u001b[1;32m     24\u001b[0m                 \u001b[0mX_train\u001b[0m\u001b[0;34m,\u001b[0m \u001b[0mX_test\u001b[0m \u001b[0;34m=\u001b[0m \u001b[0mprojected_G\u001b[0m\u001b[0;34m[\u001b[0m\u001b[0mtrain_idx\u001b[0m\u001b[0;34m]\u001b[0m\u001b[0;34m,\u001b[0m \u001b[0mprojected_G\u001b[0m\u001b[0;34m[\u001b[0m\u001b[0mtest_idx\u001b[0m\u001b[0;34m]\u001b[0m\u001b[0;34m\u001b[0m\u001b[0;34m\u001b[0m\u001b[0m\n\u001b[1;32m     25\u001b[0m                 \u001b[0my_train\u001b[0m\u001b[0;34m,\u001b[0m \u001b[0my_test\u001b[0m \u001b[0;34m=\u001b[0m \u001b[0my\u001b[0m\u001b[0;34m[\u001b[0m\u001b[0mtrain_idx\u001b[0m\u001b[0;34m]\u001b[0m\u001b[0;34m,\u001b[0m \u001b[0my\u001b[0m\u001b[0;34m[\u001b[0m\u001b[0mtest_idx\u001b[0m\u001b[0;34m]\u001b[0m\u001b[0;34m\u001b[0m\u001b[0;34m\u001b[0m\u001b[0m\n\u001b[0;32m---> 26\u001b[0;31m                 \u001b[0mclf\u001b[0m \u001b[0;34m=\u001b[0m \u001b[0mKNeighborsClassifier\u001b[0m\u001b[0;34m(\u001b[0m\u001b[0mn_neighbors\u001b[0m\u001b[0;34m=\u001b[0m\u001b[0mk\u001b[0m\u001b[0;34m)\u001b[0m\u001b[0;34m\u001b[0m\u001b[0;34m\u001b[0m\u001b[0m\n\u001b[0m\u001b[1;32m     27\u001b[0m                 \u001b[0mclf\u001b[0m\u001b[0;34m.\u001b[0m\u001b[0mfit\u001b[0m\u001b[0;34m(\u001b[0m\u001b[0mX_train\u001b[0m\u001b[0;34m,\u001b[0m \u001b[0my_train\u001b[0m\u001b[0;34m)\u001b[0m\u001b[0;34m\u001b[0m\u001b[0;34m\u001b[0m\u001b[0m\n\u001b[1;32m     28\u001b[0m                 \u001b[0mpreds\u001b[0m\u001b[0;34m.\u001b[0m\u001b[0mappend\u001b[0m\u001b[0;34m(\u001b[0m\u001b[0mclf\u001b[0m\u001b[0;34m.\u001b[0m\u001b[0mpredict\u001b[0m\u001b[0;34m(\u001b[0m\u001b[0mX_test\u001b[0m\u001b[0;34m)\u001b[0m\u001b[0;34m[\u001b[0m\u001b[0;36m0\u001b[0m\u001b[0;34m]\u001b[0m\u001b[0;34m)\u001b[0m\u001b[0;34m\u001b[0m\u001b[0;34m\u001b[0m\u001b[0m\n",
            "\u001b[0;32m/usr/local/lib/python3.11/dist-packages/sklearn/neighbors/_classification.py\u001b[0m in \u001b[0;36m__init__\u001b[0;34m(self, n_neighbors, weights, algorithm, leaf_size, p, metric, metric_params, n_jobs)\u001b[0m\n\u001b[1;32m    192\u001b[0m     )\n\u001b[1;32m    193\u001b[0m \u001b[0;34m\u001b[0m\u001b[0m\n\u001b[0;32m--> 194\u001b[0;31m     def __init__(\n\u001b[0m\u001b[1;32m    195\u001b[0m         \u001b[0mself\u001b[0m\u001b[0;34m,\u001b[0m\u001b[0;34m\u001b[0m\u001b[0;34m\u001b[0m\u001b[0m\n\u001b[1;32m    196\u001b[0m         \u001b[0mn_neighbors\u001b[0m\u001b[0;34m=\u001b[0m\u001b[0;36m5\u001b[0m\u001b[0;34m,\u001b[0m\u001b[0;34m\u001b[0m\u001b[0;34m\u001b[0m\u001b[0m\n",
            "\u001b[0;31mKeyboardInterrupt\u001b[0m: "
          ]
        }
      ]
    }
  ]
}